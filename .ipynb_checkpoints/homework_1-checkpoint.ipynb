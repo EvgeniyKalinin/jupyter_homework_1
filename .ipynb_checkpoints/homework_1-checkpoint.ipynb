{
 "cells": [
  {
   "cell_type": "markdown",
   "id": "fc3aaeaa",
   "metadata": {},
   "source": [
    "# Домашнее задание 1\n",
    "\n",
    "## Задача 1\n",
    "\n",
    "Оформляйте ноутбук, используя эти советы:\n",
    "\n",
    "- Номер задачи - заголовок 2\n",
    "- Номер подзадачи - заголовок 3\n",
    "- Предоставленные наборы данных оформляйте, как код"
   ]
  },
  {
   "cell_type": "markdown",
   "id": "1dd1d2d1",
   "metadata": {},
   "source": [
    "## Задача 2\n",
    "На складе лежат разные фрукты в разном количестве. Нужно написать функцию, которая на вход принимает любое количество названий фруктов и их количество, а возвращает общее количество фруктов на складе"
   ]
  },
  {
   "cell_type": "code",
   "execution_count": 1,
   "id": "7f42606a",
   "metadata": {},
   "outputs": [],
   "source": [
    "def fruits(**kwargs):\n",
    "    \n",
    "    total_fruits = sum(kwargs.values())\n",
    "    \n",
    "    return total_fruits"
   ]
  },
  {
   "cell_type": "code",
   "execution_count": 2,
   "id": "f7f79116",
   "metadata": {},
   "outputs": [
    {
     "name": "stdout",
     "output_type": "stream",
     "text": [
      "Total = 21\n"
     ]
    }
   ],
   "source": [
    "print(f'Total = {fruits(apples=10, bananas=4, mango=7)}')"
   ]
  },
  {
   "cell_type": "markdown",
   "id": "dfc9928f",
   "metadata": {},
   "source": [
    "## Задача 3\n",
    "Дан список с затратами на рекламу. Но в данных есть ошибки, некоторые затраты имеют отрицательную величину. Удалите такие значения из списка и посчитайте суммарные затраты\n",
    "[100, 125, -90, 345, 655, -1, 0, 200]\n",
    "\n",
    "_Используйте list comprehensions_"
   ]
  },
  {
   "cell_type": "code",
   "execution_count": 5,
   "id": "2db4c42b",
   "metadata": {},
   "outputs": [],
   "source": [
    "data = [100, 125, -90, 345, 655, -1, 0, 200]"
   ]
  },
  {
   "cell_type": "code",
   "execution_count": 6,
   "id": "10ccfdf0",
   "metadata": {},
   "outputs": [
    {
     "name": "stdout",
     "output_type": "stream",
     "text": [
      "[100, 125, 345, 655, 200]\n",
      "Total expenses: 1425\n"
     ]
    }
   ],
   "source": [
    "print([i for i in data if i > 0 ])\n",
    "print(f'Total = {sum([i for i in data if i > 0 ])}')"
   ]
  },
  {
   "cell_type": "markdown",
   "id": "117e9b14",
   "metadata": {},
   "source": [
    "## Задача 4\n",
    "Даны два списка.\n",
    "Дата покупки\n",
    "\n",
    "['2021-09-14', '2021-12-15', '2021-09-08', '2021-12-05', '2021-10-09', '2021-09-30', '2021-12-22', '2021-11-29', '2021-12-24', '2021-11-26', '2021-10-27', '2021-12-18', '2021-11-09', '2021-11-23', '2021-09-27', '2021-10-02', '2021-12-27', '2021-09-20', '2021-12-13', '2021-11-01', '2021-11-09', '2021-12-06', '2021-12-08', '2021-10-09', '2021-10-31', '2021-09-30', '2021-11-09', '2021-12-13', '2021-10-26', '2021-12-09']\n",
    "\n",
    "Суммы покупок по датам\n",
    "\n",
    "[1270, 8413, 9028, 3703, 5739, 4095, 295, 4944, 5723, 3701, 4471, 651, 7037, 4274, 6275, 4988, 6930, 2971, 6592, 2004, 2822, 519, 3406, 2732, 5015, 2008, 316, 6333, 5700, 2887]\n",
    "\n",
    "### Задача 4.1\n",
    "Найдите, какая выручка у компании в ноябре\n",
    "\n",
    "_Используйте list comprehensions_"
   ]
  },
  {
   "cell_type": "code",
   "execution_count": 7,
   "id": "ecf68967",
   "metadata": {},
   "outputs": [],
   "source": [
    "date = ['2021-09-14', '2021-12-15', '2021-09-08', '2021-12-05', '2021-10-09', \n",
    "        '2021-09-30', '2021-12-22', '2021-11-29', '2021-12-24', '2021-11-26', \n",
    "        '2021-10-27', '2021-12-18', '2021-11-09', '2021-11-23', '2021-09-27', \n",
    "        '2021-10-02', '2021-12-27', '2021-09-20', '2021-12-13', '2021-11-01', \n",
    "        '2021-11-09', '2021-12-06', '2021-12-08', '2021-10-09', '2021-10-31', \n",
    "        '2021-09-30', '2021-11-09', '2021-12-13', '2021-10-26', '2021-12-09']\n",
    "cost = [1270, 8413, 9028, 3703, 5739, 4095, 295, 4944, 5723, 3701, \n",
    "        4471, 651, 7037, 4274, 6275, 4988, 6930, 2971, 6592, 2004, \n",
    "        2822, 519, 3406, 2732, 5015, 2008, 316, 6333, 5700, 2887]"
   ]
  },
  {
   "cell_type": "code",
   "execution_count": 9,
   "id": "d9a131d6",
   "metadata": {},
   "outputs": [
    {
     "name": "stdout",
     "output_type": "stream",
     "text": [
      "[4944, 3701, 7037, 4274, 2004, 2822, 316]\n",
      "Total: 25098\n"
     ]
    }
   ],
   "source": [
    "print([cost[i] for i in range(0, len(date)-1) if \"-11\" in date[i]])\n",
    "print(f'Total: {sum([cost[i] for i in range(len(date)-1) if \"-11\" in date[i]])}')"
   ]
  },
  {
   "cell_type": "markdown",
   "id": "d491f802",
   "metadata": {},
   "source": [
    "### Задача 4.2\n",
    "Найдите выручку компании в зависимости от месяца\n",
    "Для этого напишите функцию, которая на вход принимает список с датами и список с выручкой, а на выходе словарь, где ключи - это месяцы, а значения - это выручка.\n",
    "\n",
    "_Используйте аннотирование типов._"
   ]
  },
  {
   "cell_type": "code",
   "execution_count": 10,
   "id": "8346c059",
   "metadata": {},
   "outputs": [
    {
     "name": "stdout",
     "output_type": "stream",
     "text": [
      "{'09': 25647, '12': 45452, '10': 28645, '11': 25098}\n"
     ]
    }
   ],
   "source": [
    "def profits(data1: list, data2: list) -> dict:\n",
    "    \n",
    "    profits = {}\n",
    "    \n",
    "    for i in range(len(data1)):\n",
    "        \n",
    "        if date[i].split('-')[1] in profits.keys():\n",
    "            profits[date[i].split('-')[1]] += cost[i]\n",
    "        else:\n",
    "            profits[date[i].split('-')[1]] = cost[i]\n",
    "            \n",
    "    return profits\n",
    "\n",
    "print(profits(date, cost))"
   ]
  },
  {
   "cell_type": "code",
   "execution_count": null,
   "id": "7d2c2f3c",
   "metadata": {},
   "outputs": [],
   "source": []
  }
 ],
 "metadata": {
  "kernelspec": {
   "display_name": "Python 3 (ipykernel)",
   "language": "python",
   "name": "python3"
  },
  "language_info": {
   "codemirror_mode": {
    "name": "ipython",
    "version": 3
   },
   "file_extension": ".py",
   "mimetype": "text/x-python",
   "name": "python",
   "nbconvert_exporter": "python",
   "pygments_lexer": "ipython3",
   "version": "3.10.9"
  }
 },
 "nbformat": 4,
 "nbformat_minor": 5
}
